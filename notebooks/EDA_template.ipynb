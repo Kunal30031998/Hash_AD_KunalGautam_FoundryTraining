{
  "cells": [
    {
      "cell_type": "markdown",
      "metadata": {},
      "source": [
        "# EDA Template\n",
        "\n",
        "Run this notebook in Foundry. Replace dataset names with your own (`Hash_AD_KunalGautam_Raw_FoundryTraining`)."
      ]
    },
    {
      "cell_type": "code",
      "execution_count": 0,
      "metadata": {},
      "outputs": [],
      "source": [
        "import pandas as pd\n",
        "import numpy as np\n",
        "from pyspark.sql import functions as F\n",
        "\n",
        "# If running as a Foundry Notebook with Spark, you can load your dataset via provided APIs.\n",
        "# Example placeholder: df = spark.read.table('your_raw_table')\n",
        "print('Fill in dataset loading here.')"
      ]
    },
    {
      "cell_type": "code",
      "execution_count": 0,
      "metadata": {},
      "outputs": [],
      "source": [
        "# Basic profile (replace 'df' or 'pdf' accordingly)\n",
        "# For Spark DataFrame 'df':\n",
        "# display(df.limit(10))\n",
        "# print('Rows:', df.count())\n",
        "# print('Schema:')\n",
        "# df.printSchema()\n",
        "\n",
        "# For pandas DataFrame 'pdf':\n",
        "print('Create a small pandas profile here if using pandas.')"
      ]
    }
  ],
  "metadata": {
    "kernelspec": {
      "display_name": "Python 3",
      "language": "python",
      "name": "python3"
    },
    "language_info": {
      "name": "python",
      "version": "3.8"
    }
  },
  "nbformat": 4,
  "nbformat_minor": 5
}